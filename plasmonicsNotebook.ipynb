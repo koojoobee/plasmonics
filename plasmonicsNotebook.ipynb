{
 "cells": [
  {
   "cell_type": "markdown",
   "metadata": {},
   "source": [
    "# Plasmonics"
   ]
  },
  {
   "cell_type": "markdown",
   "metadata": {},
   "source": [
    "## Notes"
   ]
  },
  {
   "cell_type": "markdown",
   "metadata": {
    "collapsed": true
   },
   "source": [
    "Metals contain contain free electrons. They oscillate collectively with respect to ion bed of the metal. Then the metal has a vibrational energy of collective electrons, thus can be quantized. The quanta of this energy is called a plasmon. "
   ]
  },
  {
   "cell_type": "markdown",
   "metadata": {},
   "source": [
    "Since the plasmon is dependent on metal, then we must consider the properties of metals to understand the plasmon. Metals can be understood in terms of their relative electric permittivity (also called dielectric constant)."
   ]
  },
  {
   "cell_type": "markdown",
   "metadata": {},
   "source": [
    "### Classical Drude Model\n",
    "\n",
    "Plasmons arise from the collective electron oscillations. Therefore, we must understand the collective motion of the electrons to understand the plasmon. Classical mechanical models begin with Newton's laws. \n",
    "\n",
    "$$ F=ma \\tag{1}$$ "
   ]
  },
  {
   "cell_type": "code",
   "execution_count": null,
   "metadata": {
    "collapsed": true
   },
   "outputs": [],
   "source": []
  }
 ],
 "metadata": {
  "kernelspec": {
   "display_name": "Python 3",
   "language": "python",
   "name": "python3"
  },
  "language_info": {
   "codemirror_mode": {
    "name": "ipython",
    "version": 3
   },
   "file_extension": ".py",
   "mimetype": "text/x-python",
   "name": "python",
   "nbconvert_exporter": "python",
   "pygments_lexer": "ipython3",
   "version": "3.6.3"
  }
 },
 "nbformat": 4,
 "nbformat_minor": 2
}
