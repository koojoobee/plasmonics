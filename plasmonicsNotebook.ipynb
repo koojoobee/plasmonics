{
 "cells": [
  {
   "cell_type": "markdown",
   "metadata": {},
   "source": [
    "# Plasmonics\n",
    "\n",
    "## Notes\n",
    "\n",
    "Metals contain contain free electrons. They oscillate collectively with respect to ion bed of the metal. Then the metal has a vibrational energy of collective electrons, thus can be quantized. The quanta of this energy is called a plasmon. \n",
    "\n",
    "Since the plasmon is dependent on metal, then we must consider the properties of metals to understand the plasmon. Metals can be understood in terms of their relative electric permittivity (also called dielectric constant).\n",
    "\n",
    "### Classical Drude Model\n",
    "\n",
    "Plasmons arise from the collective electron oscillations. Therefore, we must understand the collective motion of the electrons to understand the plasmon. Classical mechanical models begin with Newton's laws. \n",
    "\n",
    "$$ F=ma \\tag{1}$$ \n",
    "\n",
    "We would like the ability to control and tune the properties of the metal and so we would like to change the relative permittivity with an external driving force, an oscillating electric field $F_E$. Then, the drude model assumes the forces acting on the electron are due to friction $F_f$, velocity dependent damping $F_d$ and the electric field $F_E$. They are written as,\n",
    "\n",
    "$$F_f=-m\\omega_o^2 x \\tag{2}$$  \n",
    "$$F_d=-m\\gamma \\frac{dx}{dt} \\tag{3}$$  \n",
    "$$F_E=-eE_oe^{(i\\omega t)} \\tag{4}$$\n",
    "\n",
    "Substituting (2), (3) and (4) into (1) gives,\n",
    "\n",
    "$$m\\frac{d^2x}{dt^2}=-m\\omega_o^2 x-m\\gamma \\frac{dx}{dt}-eE_oe^{(i\\omega t)} \\tag{5}$$\n",
    "\n"
   ]
  },
  {
   "cell_type": "markdown",
   "metadata": {},
   "source": [
    "$\\gamma$ is a damping constant, $\\omega_o^2$ is the resonant frequency of an electron, $m=9.10938356\\times10^{-31} Kg=0.5109989195 MeV$ is the mass of the electron, $e=1.602176565\\times10^{-19} Joules=1 eV$ is the electron charge and $\\omega$ is the oscillating frequency of the electric field."
   ]
  },
  {
   "cell_type": "code",
   "execution_count": null,
   "metadata": {
    "collapsed": true
   },
   "outputs": [],
   "source": []
  }
 ],
 "metadata": {
  "kernelspec": {
   "display_name": "Python 3",
   "language": "python",
   "name": "python3"
  },
  "language_info": {
   "codemirror_mode": {
    "name": "ipython",
    "version": 3
   },
   "file_extension": ".py",
   "mimetype": "text/x-python",
   "name": "python",
   "nbconvert_exporter": "python",
   "pygments_lexer": "ipython3",
   "version": "3.6.3"
  }
 },
 "nbformat": 4,
 "nbformat_minor": 2
}
